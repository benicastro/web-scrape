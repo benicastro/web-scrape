{
 "cells": [
  {
   "cell_type": "markdown",
   "id": "01c1aa69",
   "metadata": {},
   "source": [
    "# Scrape and Analyze Data Analyst Job Requirements with Python"
   ]
  },
  {
   "cell_type": "markdown",
   "id": "aec3d226",
   "metadata": {},
   "source": [
    "---"
   ]
  },
  {
   "cell_type": "markdown",
   "id": "e8bf8da7",
   "metadata": {},
   "source": [
    "### Overview\n",
    "\n",
    "- In this project, you will step into the shoes of an entry-level data analyst at medium-sized recruitment agency, helping to improve its sourcing of job vacancies."
   ]
  },
  {
   "cell_type": "markdown",
   "id": "b3e675c2",
   "metadata": {},
   "source": [
    "---"
   ]
  },
  {
   "cell_type": "markdown",
   "id": "d5dc6429",
   "metadata": {},
   "source": [
    "### Project Scenario\n",
    "\n",
    "The team at the recruitment agency is trying to improve its sourcing of job vacancies. To do this the agency relies on multiple job posting sites to identify potential job openings for its clients. However, manually searching through each site is time-consuming and often leads to missed opportunities.  \n",
    "\n",
    "They want you to  analyze the data using web scraping tools that can automatically extract job posting data from multiple job posting sites.  The team will use your analysis to provide a more efficient way to provide job vacancies to better serve its clients. This feature will help the recruitment agency by getting relevant openings to their clients more quickly, giving their clients a competitive advantage over other applicants."
   ]
  },
  {
   "cell_type": "markdown",
   "id": "f8de668f",
   "metadata": {},
   "source": [
    "---"
   ]
  },
  {
   "cell_type": "markdown",
   "id": "f71ee57f",
   "metadata": {},
   "source": [
    "### Learning Objectives\n",
    "\n",
    "- Increase the efficiency of job vacancy sourcing\n",
    "- Improve the quality of job vacancy sourcing\n",
    "- Gain a competitive advantage"
   ]
  },
  {
   "cell_type": "markdown",
   "id": "7a29bbfc",
   "metadata": {},
   "source": [
    "---"
   ]
  },
  {
   "cell_type": "markdown",
   "id": "a364d450",
   "metadata": {},
   "source": [
    "## Step 1: Importing Required Libraries"
   ]
  },
  {
   "cell_type": "code",
   "execution_count": 82,
   "id": "a7890afc",
   "metadata": {},
   "outputs": [],
   "source": [
    "import time\n",
    "import httpx\n",
    "import pandas as pd\n",
    "from typing import Optional\n",
    "from selectolax.parser import HTMLParser\n",
    "from dataclasses import dataclass, asdict"
   ]
  },
  {
   "cell_type": "markdown",
   "id": "76f18b2d",
   "metadata": {},
   "source": [
    "## Step 2: Create Schema of Output Data"
   ]
  },
  {
   "cell_type": "code",
   "execution_count": 64,
   "id": "3e576988",
   "metadata": {},
   "outputs": [],
   "source": [
    "@dataclass\n",
    "class JobPost:\n",
    "    job_title: Optional[str] = None\n",
    "    location: Optional[str] = None\n",
    "    job_description: Optional[str] = None\n",
    "    platform: Optional[str] = None\n",
    "    source_link: Optional[str] = None"
   ]
  },
  {
   "cell_type": "markdown",
   "id": "10298a51",
   "metadata": {},
   "source": [
    "## Step 3: Fetch or Define Job Posting Sources"
   ]
  },
  {
   "cell_type": "code",
   "execution_count": 65,
   "id": "e1e7ada0",
   "metadata": {},
   "outputs": [],
   "source": [
    "url = \"https://www.flexjobs.com/search?\"\n",
    "# job_titles = [\"data science\", \"data analyst\", \"data engineer\"]"
   ]
  },
  {
   "cell_type": "markdown",
   "id": "2ee6681f",
   "metadata": {},
   "source": [
    "## Step 4: Define Functions for the Scraping Process"
   ]
  },
  {
   "cell_type": "code",
   "execution_count": 68,
   "id": "4e1dc679",
   "metadata": {},
   "outputs": [],
   "source": [
    "def get_html(url, querystring={\"\":\"\"}, **kwargs):\n",
    "    \"\"\"This function returns the HTML content of a given website url and query parameters, using httpx.\"\"\"\n",
    "    headers = {\n",
    "        \"User-Agent\": \"Mozilla/5.0 (Windows NT 10.0; Win64; x64) AppleWebKit/537.36 (KHTML, like Gecko) Chrome/118.0.0.0 Safari/537.36\"\n",
    "    }\n",
    "    if kwargs.get(\"page\"):\n",
    "        response = httpx.get(url + \"/\" + str(kwargs.get(\"page\")), headers=headers, params=querystring, follow_redirects=True)\n",
    "    else:\n",
    "        response = httpx.get(url, headers=headers, params=querystring, follow_redirects=True)\n",
    "    \n",
    "    try:\n",
    "        response.raise_for_status()\n",
    "    except httpx.HTTPStatusError as exc:\n",
    "        print(f\"Error response {exc.response.status_code} while requesting {exc.request.url!r}. \\nPage Limit Exceeded...\")\n",
    "        return False\n",
    "\n",
    "    html = HTMLParser(response.text)\n",
    "    return html\n",
    "\n",
    "\n",
    "def extract_nodes(website_html, selector):\n",
    "    \"\"\"This function return node objects given the html and the necessary css selector.\"\"\"\n",
    "    try:\n",
    "        return website_html.css(selector)\n",
    "    except AttributeError:\n",
    "        return None\n",
    "\n",
    "\n",
    "def get_entry(job_title, location, job_description, platform, source_link):\n",
    "    \"\"\"This function creates an entry for the output data with the recommended schema using information from the website.\"\"\"\n",
    "    new_entry = {\n",
    "        \"job_title\": job_title,\n",
    "        \"location\": location,\n",
    "        \"job_description\": job_description,\n",
    "        \"platform\": platform,\n",
    "        \"source_link\": source_link\n",
    "    }\n",
    "    return new_entry"
   ]
  },
  {
   "cell_type": "markdown",
   "id": "ea627e93",
   "metadata": {},
   "source": [
    "## Step 5: Main Function"
   ]
  },
  {
   "cell_type": "code",
   "execution_count": 83,
   "id": "9e541dfb",
   "metadata": {},
   "outputs": [],
   "source": [
    "platform = \"flexjobs\"\n",
    "job_postings = []\n",
    "\n",
    "# Loop through all job title queries\n",
    "for q in job_titles:\n",
    "\n",
    "    # Get raw html\n",
    "    html = get_html(url, querystring={\"search\": q})\n",
    "    \n",
    "    if not html:\n",
    "        continue\n",
    "        \n",
    "    nodes = extract_nodes(html, \"li.job\")\n",
    "    \n",
    "    for node in nodes:\n",
    "        \n",
    "        try:\n",
    "            job_title = node.attrs[\"data-title\"]\n",
    "        except:\n",
    "            job_title = \"null\"\n",
    "            \n",
    "        try:\n",
    "            location = node.css_first(\"div.job-locations\").text().strip()\n",
    "        except:\n",
    "            location = \"null\"\n",
    "            \n",
    "        try:\n",
    "            job_description = node.css_first(\"div.job-description\").text().strip()\n",
    "        except:\n",
    "            job_description = \"null\"\n",
    "            \n",
    "        try:\n",
    "            source_link = \"https://www.flexjobs.com\" + node.css_first(\"a.job-title.job-link\").attrs[\"href\"]\n",
    "        except:\n",
    "            source_link = \"null\"\n",
    "        \n",
    "        entry = get_entry(job_title, location, job_description, platform, source_link)\n",
    "        job_postings.append(entry)\n",
    "    \n",
    "    time.sleep(5)"
   ]
  },
  {
   "cell_type": "code",
   "execution_count": 84,
   "id": "d01a3e68",
   "metadata": {},
   "outputs": [],
   "source": [
    "df = pd.DataFrame(job_postings)"
   ]
  },
  {
   "cell_type": "code",
   "execution_count": 85,
   "id": "3a4be31e",
   "metadata": {},
   "outputs": [
    {
     "data": {
      "text/html": [
       "<div>\n",
       "<style scoped>\n",
       "    .dataframe tbody tr th:only-of-type {\n",
       "        vertical-align: middle;\n",
       "    }\n",
       "\n",
       "    .dataframe tbody tr th {\n",
       "        vertical-align: top;\n",
       "    }\n",
       "\n",
       "    .dataframe thead th {\n",
       "        text-align: right;\n",
       "    }\n",
       "</style>\n",
       "<table border=\"1\" class=\"dataframe\">\n",
       "  <thead>\n",
       "    <tr style=\"text-align: right;\">\n",
       "      <th></th>\n",
       "      <th>job_title</th>\n",
       "      <th>location</th>\n",
       "      <th>job_description</th>\n",
       "      <th>platform</th>\n",
       "      <th>source_link</th>\n",
       "    </tr>\n",
       "  </thead>\n",
       "  <tbody>\n",
       "    <tr>\n",
       "      <th>0</th>\n",
       "      <td>Data Science Manager</td>\n",
       "      <td>US National</td>\n",
       "      <td>Manage a team of remote sensing scientists and...</td>\n",
       "      <td>flexjobs</td>\n",
       "      <td>https://www.flexjobs.com/HostedJob.aspx?id=192...</td>\n",
       "    </tr>\n",
       "    <tr>\n",
       "      <th>1</th>\n",
       "      <td>Data Science Practice Director</td>\n",
       "      <td>Washington, DC</td>\n",
       "      <td>Lead and manage the Data Science Practice area...</td>\n",
       "      <td>flexjobs</td>\n",
       "      <td>https://www.flexjobs.com/HostedJob.aspx?id=191...</td>\n",
       "    </tr>\n",
       "    <tr>\n",
       "      <th>2</th>\n",
       "      <td>Data Science Leader</td>\n",
       "      <td>United Kingdom</td>\n",
       "      <td>Lead and execute a comprehensive data science ...</td>\n",
       "      <td>flexjobs</td>\n",
       "      <td>https://www.flexjobs.com/HostedJob.aspx?id=191...</td>\n",
       "    </tr>\n",
       "    <tr>\n",
       "      <th>3</th>\n",
       "      <td>Senior Director, Data Science</td>\n",
       "      <td>US National</td>\n",
       "      <td>Lead management science and statistical modeli...</td>\n",
       "      <td>flexjobs</td>\n",
       "      <td>https://www.flexjobs.com/HostedJob.aspx?id=190...</td>\n",
       "    </tr>\n",
       "    <tr>\n",
       "      <th>4</th>\n",
       "      <td>Manager, Data Science</td>\n",
       "      <td>US National</td>\n",
       "      <td>Lead and manage a team of data scientists. Dev...</td>\n",
       "      <td>flexjobs</td>\n",
       "      <td>https://www.flexjobs.com/HostedJob.aspx?id=190...</td>\n",
       "    </tr>\n",
       "    <tr>\n",
       "      <th>...</th>\n",
       "      <td>...</td>\n",
       "      <td>...</td>\n",
       "      <td>...</td>\n",
       "      <td>...</td>\n",
       "      <td>...</td>\n",
       "    </tr>\n",
       "    <tr>\n",
       "      <th>145</th>\n",
       "      <td>Data Engineering</td>\n",
       "      <td>Chicago, IL</td>\n",
       "      <td>Design, develop, and deliver data products to ...</td>\n",
       "      <td>flexjobs</td>\n",
       "      <td>https://www.flexjobs.com/HostedJob.aspx?id=192...</td>\n",
       "    </tr>\n",
       "    <tr>\n",
       "      <th>146</th>\n",
       "      <td>Data Engineer</td>\n",
       "      <td>Lisbon, Portugal</td>\n",
       "      <td>Develop and maintain scalable ETL processes. I...</td>\n",
       "      <td>flexjobs</td>\n",
       "      <td>https://www.flexjobs.com/HostedJob.aspx?id=192...</td>\n",
       "    </tr>\n",
       "    <tr>\n",
       "      <th>147</th>\n",
       "      <td>Data Engineer</td>\n",
       "      <td>US National</td>\n",
       "      <td>Develop, test, and deploy data pipelines, main...</td>\n",
       "      <td>flexjobs</td>\n",
       "      <td>https://www.flexjobs.com/HostedJob.aspx?id=192...</td>\n",
       "    </tr>\n",
       "    <tr>\n",
       "      <th>148</th>\n",
       "      <td>Data Engineer</td>\n",
       "      <td>Søborg, Denmark</td>\n",
       "      <td>Collaborate with cross-functional teams to des...</td>\n",
       "      <td>flexjobs</td>\n",
       "      <td>https://www.flexjobs.com/HostedJob.aspx?id=193...</td>\n",
       "    </tr>\n",
       "    <tr>\n",
       "      <th>149</th>\n",
       "      <td>Data Engineer</td>\n",
       "      <td>Halifax, NS, Canada</td>\n",
       "      <td>Coordinate with cross-functional teams to desi...</td>\n",
       "      <td>flexjobs</td>\n",
       "      <td>https://www.flexjobs.com/HostedJob.aspx?id=188...</td>\n",
       "    </tr>\n",
       "  </tbody>\n",
       "</table>\n",
       "<p>150 rows × 5 columns</p>\n",
       "</div>"
      ],
      "text/plain": [
       "                           job_title             location  \\\n",
       "0               Data Science Manager          US National   \n",
       "1    Data Science Practice Director        Washington, DC   \n",
       "2                Data Science Leader       United Kingdom   \n",
       "3     Senior Director, Data Science           US National   \n",
       "4              Manager, Data Science          US National   \n",
       "..                               ...                  ...   \n",
       "145                 Data Engineering          Chicago, IL   \n",
       "146                    Data Engineer     Lisbon, Portugal   \n",
       "147                    Data Engineer          US National   \n",
       "148                    Data Engineer      Søborg, Denmark   \n",
       "149                    Data Engineer  Halifax, NS, Canada   \n",
       "\n",
       "                                       job_description  platform  \\\n",
       "0    Manage a team of remote sensing scientists and...  flexjobs   \n",
       "1    Lead and manage the Data Science Practice area...  flexjobs   \n",
       "2    Lead and execute a comprehensive data science ...  flexjobs   \n",
       "3    Lead management science and statistical modeli...  flexjobs   \n",
       "4    Lead and manage a team of data scientists. Dev...  flexjobs   \n",
       "..                                                 ...       ...   \n",
       "145  Design, develop, and deliver data products to ...  flexjobs   \n",
       "146  Develop and maintain scalable ETL processes. I...  flexjobs   \n",
       "147  Develop, test, and deploy data pipelines, main...  flexjobs   \n",
       "148  Collaborate with cross-functional teams to des...  flexjobs   \n",
       "149  Coordinate with cross-functional teams to desi...  flexjobs   \n",
       "\n",
       "                                           source_link  \n",
       "0    https://www.flexjobs.com/HostedJob.aspx?id=192...  \n",
       "1    https://www.flexjobs.com/HostedJob.aspx?id=191...  \n",
       "2    https://www.flexjobs.com/HostedJob.aspx?id=191...  \n",
       "3    https://www.flexjobs.com/HostedJob.aspx?id=190...  \n",
       "4    https://www.flexjobs.com/HostedJob.aspx?id=190...  \n",
       "..                                                 ...  \n",
       "145  https://www.flexjobs.com/HostedJob.aspx?id=192...  \n",
       "146  https://www.flexjobs.com/HostedJob.aspx?id=192...  \n",
       "147  https://www.flexjobs.com/HostedJob.aspx?id=192...  \n",
       "148  https://www.flexjobs.com/HostedJob.aspx?id=193...  \n",
       "149  https://www.flexjobs.com/HostedJob.aspx?id=188...  \n",
       "\n",
       "[150 rows x 5 columns]"
      ]
     },
     "execution_count": 85,
     "metadata": {},
     "output_type": "execute_result"
    }
   ],
   "source": [
    "df"
   ]
  },
  {
   "cell_type": "code",
   "execution_count": null,
   "id": "49477642",
   "metadata": {},
   "outputs": [],
   "source": []
  },
  {
   "cell_type": "code",
   "execution_count": null,
   "id": "94461506",
   "metadata": {},
   "outputs": [],
   "source": []
  },
  {
   "cell_type": "code",
   "execution_count": null,
   "id": "c4d5dc18",
   "metadata": {},
   "outputs": [],
   "source": []
  },
  {
   "cell_type": "code",
   "execution_count": null,
   "id": "68cb4e43",
   "metadata": {},
   "outputs": [],
   "source": []
  },
  {
   "cell_type": "code",
   "execution_count": null,
   "id": "025a4532",
   "metadata": {},
   "outputs": [],
   "source": []
  },
  {
   "cell_type": "code",
   "execution_count": null,
   "id": "a66f2202",
   "metadata": {},
   "outputs": [],
   "source": []
  },
  {
   "cell_type": "code",
   "execution_count": null,
   "id": "80eb057e",
   "metadata": {},
   "outputs": [],
   "source": []
  },
  {
   "cell_type": "code",
   "execution_count": null,
   "id": "1fb37ddb",
   "metadata": {},
   "outputs": [],
   "source": []
  },
  {
   "cell_type": "code",
   "execution_count": null,
   "id": "decba760",
   "metadata": {},
   "outputs": [],
   "source": []
  },
  {
   "cell_type": "code",
   "execution_count": null,
   "id": "83e16618",
   "metadata": {},
   "outputs": [],
   "source": []
  },
  {
   "cell_type": "code",
   "execution_count": null,
   "id": "dae2f818",
   "metadata": {},
   "outputs": [],
   "source": []
  },
  {
   "cell_type": "code",
   "execution_count": null,
   "id": "75c915fe",
   "metadata": {},
   "outputs": [],
   "source": []
  },
  {
   "cell_type": "code",
   "execution_count": null,
   "id": "941851b5",
   "metadata": {},
   "outputs": [],
   "source": []
  }
 ],
 "metadata": {
  "kernelspec": {
   "display_name": "Python 3 (ipykernel)",
   "language": "python",
   "name": "python3"
  },
  "language_info": {
   "codemirror_mode": {
    "name": "ipython",
    "version": 3
   },
   "file_extension": ".py",
   "mimetype": "text/x-python",
   "name": "python",
   "nbconvert_exporter": "python",
   "pygments_lexer": "ipython3",
   "version": "3.9.13"
  }
 },
 "nbformat": 4,
 "nbformat_minor": 5
}
